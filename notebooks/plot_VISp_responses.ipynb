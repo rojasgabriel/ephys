{
 "cells": [
  {
   "cell_type": "code",
   "execution_count": null,
   "metadata": {},
   "outputs": [],
   "source": [
    "import numpy as np\n",
    "import pandas as pd\n",
    "from pathlib import Path\n",
    "from spks.event_aligned import population_peth\n",
    "from chiCa.chiCa.visualization_utils import separate_axes\n",
    "import matplotlib.pyplot as plt\n",
    "import matplotlib as mpl\n",
    "\n",
    "new_rc_params = {'text.usetex': False,\n",
    "\"svg.fonttype\": 'none'\n",
    "}\n",
    "mpl.rcParams.update(new_rc_params)\n",
    "plt.rcParams['font.sans-serif'] = ['Arial'] \n",
    "plt.rcParams['font.size'] = 12\n",
    "\n",
    "%matplotlib widget\n",
    "%load_ext autoreload\n",
    "%autoreload 2"
   ]
  },
  {
   "cell_type": "code",
   "execution_count": 4,
   "metadata": {},
   "outputs": [
    {
     "data": {
      "text/plain": [
       "['20240621_143838',\n",
       " '20240628_130506',\n",
       " '20240702_134736',\n",
       " '20240723_142451',\n",
       " '20240806_141817',\n",
       " '20240814_154434']"
      ]
     },
     "execution_count": 4,
     "metadata": {},
     "output_type": "execute_result"
    }
   ],
   "source": [
    "sessions_to_analyze = {\"GRB006\":[\"20240621_143838\",\n",
    "                                 \"20240628_130506\",\n",
    "                                 \"20240702_134736\",\n",
    "                                 \"20240723_142451\",\n",
    "                                 \"20240806_141817\",\n",
    "                                 \"20240814_154434\"]}\n",
    "\n",
    "sessions_to_analyze[\"GRB006\"]"
   ]
  }
 ],
 "metadata": {
  "kernelspec": {
   "display_name": "base",
   "language": "python",
   "name": "python3"
  },
  "language_info": {
   "codemirror_mode": {
    "name": "ipython",
    "version": 3
   },
   "file_extension": ".py",
   "mimetype": "text/x-python",
   "name": "python",
   "nbconvert_exporter": "python",
   "pygments_lexer": "ipython3",
   "version": "3.10.12"
  }
 },
 "nbformat": 4,
 "nbformat_minor": 2
}
