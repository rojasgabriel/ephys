{
 "cells": [
  {
   "attachments": {},
   "cell_type": "markdown",
   "metadata": {},
   "source": [
    "### Importing modules"
   ]
  },
  {
   "cell_type": "code",
   "execution_count": 1,
   "metadata": {},
   "outputs": [],
   "source": [
    "import numpy as np\n",
    "import pandas as pd\n",
    "pd.set_option('display.max_columns', 100)\n",
    "\n",
    "import scipy\n",
    "from pathlib import Path\n",
    "from os.path import join as pjoin\n",
    "\n",
    "import matplotlib.pyplot as plt\n",
    "import matplotlib as mpl\n",
    "\n",
    "new_rc_params = {'text.usetex': False,\n",
    "\"svg.fonttype\": 'none'\n",
    "}\n",
    "mpl.rcParams.update(new_rc_params)\n",
    "plt.rcParams['font.sans-serif'] = ['Arial'] \n",
    "plt.rcParams['font.size'] = 12\n",
    "\n",
    "import chiCa.chiCa as chiCa\n",
    "from chiCa.chiCa.visualization_utils import separate_axes\n",
    "import spks\n",
    "\n",
    "%matplotlib widget\n",
    "%load_ext autoreload\n",
    "%autoreload 2"
   ]
  },
  {
   "cell_type": "markdown",
   "metadata": {},
   "source": [
    "### Load data"
   ]
  },
  {
   "attachments": {},
   "cell_type": "markdown",
   "metadata": {},
   "source": [
    "#### Loading raw nidaq and behavior data and preprocessing it"
   ]
  },
  {
   "cell_type": "code",
   "execution_count": 2,
   "metadata": {},
   "outputs": [
    {
     "name": "stdout",
     "output_type": "stream",
     "text": [
      "Loading nisync data...\n"
     ]
    },
    {
     "ename": "ValueError",
     "evalue": "x and y arrays must be equal in length along interpolation axis.",
     "output_type": "error",
     "traceback": [
      "\u001b[0;31m---------------------------------------------------------------------------\u001b[0m",
      "\u001b[0;31mValueError\u001b[0m                                Traceback (most recent call last)",
      "Cell \u001b[0;32mIn[2], line 7\u001b[0m\n\u001b[1;32m      4\u001b[0m session \u001b[38;5;241m=\u001b[39m \u001b[38;5;124m'\u001b[39m\u001b[38;5;124m20240723_142451\u001b[39m\u001b[38;5;124m'\u001b[39m\n\u001b[1;32m      5\u001b[0m sessionpath \u001b[38;5;241m=\u001b[39m Path(\u001b[38;5;124mf\u001b[39m\u001b[38;5;124m'\u001b[39m\u001b[38;5;124m/Volumes/grb_ephys/data/GRB006/\u001b[39m\u001b[38;5;132;01m{\u001b[39;00msession\u001b[38;5;132;01m}\u001b[39;00m\u001b[38;5;124m'\u001b[39m)\n\u001b[0;32m----> 7\u001b[0m corrected_onsets, corrected_offsets, t, srate, analog_signal \u001b[38;5;241m=\u001b[39m \u001b[43mload_sync_data\u001b[49m\u001b[43m(\u001b[49m\u001b[43msessionpath\u001b[49m\u001b[43m)\u001b[49m\n\u001b[1;32m      8\u001b[0m trial_starts, port_events \u001b[38;5;241m=\u001b[39m process_port_events(corrected_onsets, corrected_offsets, srate)\n\u001b[1;32m      9\u001b[0m behavior_data, trial_ts \u001b[38;5;241m=\u001b[39m process_trial_data(sessionpath, trial_starts, t, srate, analog_signal, port_events, animal, session)\n",
      "File \u001b[0;32m~/lib/lab-projects/ephys/utils.py:20\u001b[0m, in \u001b[0;36mload_sync_data\u001b[0;34m(sessionpath, sync_port)\u001b[0m\n\u001b[1;32m     18\u001b[0m corrected_offsets \u001b[38;5;241m=\u001b[39m {}\n\u001b[1;32m     19\u001b[0m \u001b[38;5;28;01mfor\u001b[39;00m k \u001b[38;5;129;01min\u001b[39;00m nionsets\u001b[38;5;241m.\u001b[39mkeys():\n\u001b[0;32m---> 20\u001b[0m     corrected_onsets[k] \u001b[38;5;241m=\u001b[39m \u001b[43mspks\u001b[49m\u001b[38;5;241;43m.\u001b[39;49m\u001b[43msync\u001b[49m\u001b[38;5;241;43m.\u001b[39;49m\u001b[43minterp1d\u001b[49m\u001b[43m(\u001b[49m\u001b[43mnionsets\u001b[49m\u001b[43m[\u001b[49m\u001b[43msync_port\u001b[49m\u001b[43m]\u001b[49m\u001b[43m,\u001b[49m\u001b[43maponsets\u001b[49m\u001b[43m,\u001b[49m\u001b[43mfill_value\u001b[49m\u001b[38;5;241;43m=\u001b[39;49m\u001b[38;5;124;43m'\u001b[39;49m\u001b[38;5;124;43mextrapolate\u001b[39;49m\u001b[38;5;124;43m'\u001b[39;49m\u001b[43m)\u001b[49m(nionsets[k])\u001b[38;5;241m.\u001b[39mastype(\u001b[38;5;124m'\u001b[39m\u001b[38;5;124muint64\u001b[39m\u001b[38;5;124m'\u001b[39m)\n\u001b[1;32m     21\u001b[0m     corrected_offsets[k] \u001b[38;5;241m=\u001b[39m spks\u001b[38;5;241m.\u001b[39msync\u001b[38;5;241m.\u001b[39minterp1d(nionsets[sync_port],aponsets,fill_value\u001b[38;5;241m=\u001b[39m\u001b[38;5;124m'\u001b[39m\u001b[38;5;124mextrapolate\u001b[39m\u001b[38;5;124m'\u001b[39m)(nioffsets[k])\u001b[38;5;241m.\u001b[39mastype(\u001b[38;5;124m'\u001b[39m\u001b[38;5;124muint64\u001b[39m\u001b[38;5;124m'\u001b[39m)\n\u001b[1;32m     22\u001b[0m \u001b[38;5;28;01mdel\u001b[39;00m k\n",
      "File \u001b[0;32m~/miniconda3/lib/python3.10/site-packages/scipy/interpolate/_interpolate.py:267\u001b[0m, in \u001b[0;36minterp1d.__init__\u001b[0;34m(self, x, y, kind, axis, copy, bounds_error, fill_value, assume_sorted)\u001b[0m\n\u001b[1;32m    263\u001b[0m \u001b[38;5;28;01mdef\u001b[39;00m \u001b[38;5;21m__init__\u001b[39m(\u001b[38;5;28mself\u001b[39m, x, y, kind\u001b[38;5;241m=\u001b[39m\u001b[38;5;124m'\u001b[39m\u001b[38;5;124mlinear\u001b[39m\u001b[38;5;124m'\u001b[39m, axis\u001b[38;5;241m=\u001b[39m\u001b[38;5;241m-\u001b[39m\u001b[38;5;241m1\u001b[39m,\n\u001b[1;32m    264\u001b[0m              copy\u001b[38;5;241m=\u001b[39m\u001b[38;5;28;01mTrue\u001b[39;00m, bounds_error\u001b[38;5;241m=\u001b[39m\u001b[38;5;28;01mNone\u001b[39;00m, fill_value\u001b[38;5;241m=\u001b[39mnp\u001b[38;5;241m.\u001b[39mnan,\n\u001b[1;32m    265\u001b[0m              assume_sorted\u001b[38;5;241m=\u001b[39m\u001b[38;5;28;01mFalse\u001b[39;00m):\n\u001b[1;32m    266\u001b[0m \u001b[38;5;250m    \u001b[39m\u001b[38;5;124;03m\"\"\" Initialize a 1-D linear interpolation class.\"\"\"\u001b[39;00m\n\u001b[0;32m--> 267\u001b[0m     \u001b[43m_Interpolator1D\u001b[49m\u001b[38;5;241;43m.\u001b[39;49m\u001b[38;5;21;43m__init__\u001b[39;49m\u001b[43m(\u001b[49m\u001b[38;5;28;43mself\u001b[39;49m\u001b[43m,\u001b[49m\u001b[43m \u001b[49m\u001b[43mx\u001b[49m\u001b[43m,\u001b[49m\u001b[43m \u001b[49m\u001b[43my\u001b[49m\u001b[43m,\u001b[49m\u001b[43m \u001b[49m\u001b[43maxis\u001b[49m\u001b[38;5;241;43m=\u001b[39;49m\u001b[43maxis\u001b[49m\u001b[43m)\u001b[49m\n\u001b[1;32m    269\u001b[0m     \u001b[38;5;28mself\u001b[39m\u001b[38;5;241m.\u001b[39mbounds_error \u001b[38;5;241m=\u001b[39m bounds_error  \u001b[38;5;66;03m# used by fill_value setter\u001b[39;00m\n\u001b[1;32m    271\u001b[0m     \u001b[38;5;66;03m# `copy` keyword semantics changed in NumPy 2.0, once that is\u001b[39;00m\n\u001b[1;32m    272\u001b[0m     \u001b[38;5;66;03m# the minimum version this can use `copy=None`.\u001b[39;00m\n",
      "File \u001b[0;32m~/miniconda3/lib/python3.10/site-packages/scipy/interpolate/_polyint.py:57\u001b[0m, in \u001b[0;36m_Interpolator1D.__init__\u001b[0;34m(self, xi, yi, axis)\u001b[0m\n\u001b[1;32m     55\u001b[0m \u001b[38;5;28mself\u001b[39m\u001b[38;5;241m.\u001b[39mdtype \u001b[38;5;241m=\u001b[39m \u001b[38;5;28;01mNone\u001b[39;00m\n\u001b[1;32m     56\u001b[0m \u001b[38;5;28;01mif\u001b[39;00m yi \u001b[38;5;129;01mis\u001b[39;00m \u001b[38;5;129;01mnot\u001b[39;00m \u001b[38;5;28;01mNone\u001b[39;00m:\n\u001b[0;32m---> 57\u001b[0m     \u001b[38;5;28;43mself\u001b[39;49m\u001b[38;5;241;43m.\u001b[39;49m\u001b[43m_set_yi\u001b[49m\u001b[43m(\u001b[49m\u001b[43myi\u001b[49m\u001b[43m,\u001b[49m\u001b[43m \u001b[49m\u001b[43mxi\u001b[49m\u001b[38;5;241;43m=\u001b[39;49m\u001b[43mxi\u001b[49m\u001b[43m,\u001b[49m\u001b[43m \u001b[49m\u001b[43maxis\u001b[49m\u001b[38;5;241;43m=\u001b[39;49m\u001b[43maxis\u001b[49m\u001b[43m)\u001b[49m\n",
      "File \u001b[0;32m~/miniconda3/lib/python3.10/site-packages/scipy/interpolate/_polyint.py:127\u001b[0m, in \u001b[0;36m_Interpolator1D._set_yi\u001b[0;34m(self, yi, xi, axis)\u001b[0m\n\u001b[1;32m    125\u001b[0m     shape \u001b[38;5;241m=\u001b[39m (\u001b[38;5;241m1\u001b[39m,)\n\u001b[1;32m    126\u001b[0m \u001b[38;5;28;01mif\u001b[39;00m xi \u001b[38;5;129;01mis\u001b[39;00m \u001b[38;5;129;01mnot\u001b[39;00m \u001b[38;5;28;01mNone\u001b[39;00m \u001b[38;5;129;01mand\u001b[39;00m shape[axis] \u001b[38;5;241m!=\u001b[39m \u001b[38;5;28mlen\u001b[39m(xi):\n\u001b[0;32m--> 127\u001b[0m     \u001b[38;5;28;01mraise\u001b[39;00m \u001b[38;5;167;01mValueError\u001b[39;00m(\u001b[38;5;124m\"\u001b[39m\u001b[38;5;124mx and y arrays must be equal in length along \u001b[39m\u001b[38;5;124m\"\u001b[39m\n\u001b[1;32m    128\u001b[0m                      \u001b[38;5;124m\"\u001b[39m\u001b[38;5;124minterpolation axis.\u001b[39m\u001b[38;5;124m\"\u001b[39m)\n\u001b[1;32m    130\u001b[0m \u001b[38;5;28mself\u001b[39m\u001b[38;5;241m.\u001b[39m_y_axis \u001b[38;5;241m=\u001b[39m (axis \u001b[38;5;241m%\u001b[39m yi\u001b[38;5;241m.\u001b[39mndim)\n\u001b[1;32m    131\u001b[0m \u001b[38;5;28mself\u001b[39m\u001b[38;5;241m.\u001b[39m_y_extra_shape \u001b[38;5;241m=\u001b[39m yi\u001b[38;5;241m.\u001b[39mshape[:\u001b[38;5;28mself\u001b[39m\u001b[38;5;241m.\u001b[39m_y_axis] \u001b[38;5;241m+\u001b[39m yi\u001b[38;5;241m.\u001b[39mshape[\u001b[38;5;28mself\u001b[39m\u001b[38;5;241m.\u001b[39m_y_axis\u001b[38;5;241m+\u001b[39m\u001b[38;5;241m1\u001b[39m:]\n",
      "\u001b[0;31mValueError\u001b[0m: x and y arrays must be equal in length along interpolation axis."
     ]
    }
   ],
   "source": [
    "from utils import load_sync_data, process_port_events, process_trial_data\n",
    "\n",
    "animal = 'GRB006'\n",
    "session = '20240723_142451'\n",
    "sessionpath = Path(f'/Volumes/grb_ephys/data/GRB006/{session}')\n",
    "\n",
    "corrected_onsets, corrected_offsets, t, srate, analog_signal = load_sync_data(sessionpath)\n",
    "trial_starts, port_events = process_port_events(corrected_onsets, corrected_offsets, srate)\n",
    "behavior_data, trial_ts = process_trial_data(sessionpath, trial_starts, t, srate, analog_signal, port_events, animal, session)"
   ]
  },
  {
   "attachments": {},
   "cell_type": "markdown",
   "metadata": {},
   "source": [
    "#### Loading and filtering KS results"
   ]
  },
  {
   "cell_type": "code",
   "execution_count": null,
   "metadata": {},
   "outputs": [],
   "source": [
    "from utils import get_good_units, get_cluster_spike_times\n",
    "\n",
    "kilosort_path = Path(f'{sessionpath}/kilosort2.5/imec0/')\n",
    "sc = np.load(pjoin(kilosort_path, 'spike_clusters.npy')) #KS clusters\n",
    "ss = np.load(pjoin(kilosort_path, 'spike_times.npy')) #KS spikes (in samples)\n",
    "st = ss/srate #conversion from spike samples to spike times\n",
    "\n",
    "clu =  spks.clusters.Clusters(folder = kilosort_path, get_waveforms=False, get_metrics=True, load_template_features=True)\n",
    "\n",
    "good_units_mask, n_units = get_good_units(clusters_obj = clu, spike_clusters = sc)\n",
    "print(f'# good units: {n_units}')"
   ]
  },
  {
   "cell_type": "markdown",
   "metadata": {},
   "source": [
    "#### Saving preprocessed neural and behavioral data locally"
   ]
  },
  {
   "cell_type": "code",
   "execution_count": 5,
   "metadata": {},
   "outputs": [],
   "source": [
    "save_dir = Path('processed_data') / animal / session\n",
    "save_dir.mkdir(parents=True, exist_ok=True)\n",
    "\n",
    "# Convert to object array before saving\n",
    "spike_times_per_unit = get_cluster_spike_times(spike_times = st, spike_clusters = sc, good_unit_ids = good_units_mask)\n",
    "spike_times_array = np.array(spike_times_per_unit, dtype=object)\n",
    "\n",
    "# Save spike times and trial data\n",
    "np.save(save_dir / 'spike_times_per_unit.npy', spike_times_array, allow_pickle=True)\n",
    "trial_ts.to_pickle(save_dir / 'trial_ts.pkl')"
   ]
  },
  {
   "cell_type": "markdown",
   "metadata": {},
   "source": [
    "#### Loading data for one session locally"
   ]
  },
  {
   "cell_type": "code",
   "execution_count": 2,
   "metadata": {},
   "outputs": [],
   "source": [
    "save_dir = Path('processed_data')\n",
    "animal = 'GRB006'  # example animal\n",
    "session = '20240723_142451'  # example session\n",
    "\n",
    "data_dir = save_dir / animal / session\n",
    "trial_ts = pd.read_pickle(data_dir / 'trial_ts.pkl')\n",
    "spike_times_per_unit = np.load(data_dir / 'spike_times_per_unit.npy', allow_pickle=True)"
   ]
  }
 ],
 "metadata": {
  "kernelspec": {
   "display_name": "Python 3 (ipykernel)",
   "language": "python",
   "name": "python3"
  },
  "language_info": {
   "codemirror_mode": {
    "name": "ipython",
    "version": 3
   },
   "file_extension": ".py",
   "mimetype": "text/x-python",
   "name": "python",
   "nbconvert_exporter": "python",
   "pygments_lexer": "ipython3",
   "version": "3.10.12"
  }
 },
 "nbformat": 4,
 "nbformat_minor": 4
}
