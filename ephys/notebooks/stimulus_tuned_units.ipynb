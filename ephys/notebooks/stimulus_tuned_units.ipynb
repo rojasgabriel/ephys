{
 "cells": [
  {
   "cell_type": "code",
   "execution_count": 43,
   "id": "123543f2",
   "metadata": {},
   "outputs": [
    {
     "name": "stdout",
     "output_type": "stream",
     "text": [
      "The autoreload extension is already loaded. To reload it, use:\n",
      "  %reload_ext autoreload\n"
     ]
    }
   ],
   "source": [
    "# %% Import libraries\n",
    "import pandas as pd\n",
    "import numpy as np\n",
    "from os.path import join as pjoin\n",
    "import matplotlib.pyplot as plt\n",
    "from spks.event_aligned import population_peth\n",
    "from spks.utils import alpha_function\n",
    "\n",
    "pd.set_option(\"display.max_columns\", 100)\n",
    "\n",
    "plt.rcParams[\"text.usetex\"] = False\n",
    "plt.rcParams[\"svg.fonttype\"] = \"none\"\n",
    "plt.rcParams[\"font.sans-serif\"] = \"Arial\"\n",
    "plt.rcParams[\"font.size\"] = 12\n",
    "plt.rcParams[\"figure.dpi\"] = 100\n",
    "\n",
    "%config InlineBackend.figure_format = 'svg'\n",
    "%matplotlib widget\n",
    "%load_ext autoreload\n",
    "%autoreload 2"
   ]
  },
  {
   "cell_type": "code",
   "execution_count": 44,
   "id": "8b918ab0",
   "metadata": {},
   "outputs": [],
   "source": [
    "# %% Load data\n",
    "animal = \"GRB006\"  # example animal\n",
    "session = \"20240723_142451\"  # example session\n",
    "\n",
    "data_dir = \"/Users/gabriel/data\"\n",
    "trial_ts = pd.read_pickle(\n",
    "    pjoin(data_dir, animal, session, \"pre_processed\", \"trial_ts.pkl\")\n",
    ")\n",
    "spike_times_per_unit = np.load(\n",
    "    pjoin(data_dir, animal, session, \"pre_processed\", \"spike_times_per_unit.npy\"),\n",
    "    allow_pickle=True,\n",
    ")\n",
    "\n",
    "trial_ts = trial_ts[\n",
    "    trial_ts[\"stationary_stims\"].apply(lambda x: len(x) > 0)\n",
    "    & trial_ts[\"movement_stims\"].apply(lambda x: len(x) > 0)\n",
    "    & trial_ts[\"center_port_entries\"].apply(lambda x: len(x) > 0)\n",
    "].copy()"
   ]
  },
  {
   "cell_type": "code",
   "execution_count": 45,
   "id": "63cd29e3",
   "metadata": {},
   "outputs": [],
   "source": [
    "first_stim_ts = trial_ts[\"first_stim_ts\"].to_numpy(dtype=float).copy()\n",
    "\n",
    "binwidth_ms = 10\n",
    "t_decay = 0.025\n",
    "t_rise = 0.001\n",
    "decay = t_decay / (binwidth_ms / 1000)\n",
    "kern = alpha_function(\n",
    "    int(decay * 15), t_rise=t_rise, t_decay=decay, srate=1.0 / (binwidth_ms / 1000)\n",
    ")\n",
    "\n",
    "first_stim_peth, bin_edges, event_index = population_peth(\n",
    "    all_spike_times=spike_times_per_unit,\n",
    "    alignment_times=first_stim_ts,\n",
    "    pre_seconds=0.1,\n",
    "    post_seconds=0.15,\n",
    "    binwidth_ms=binwidth_ms,\n",
    "    kernel=kern,\n",
    ")"
   ]
  },
  {
   "cell_type": "code",
   "execution_count": 46,
   "id": "04e0c493",
   "metadata": {},
   "outputs": [
    {
     "data": {
      "text/plain": [
       "(137, 381, 23)"
      ]
     },
     "execution_count": 46,
     "metadata": {},
     "output_type": "execute_result"
    }
   ],
   "source": [
    "first_stim_peth.shape"
   ]
  }
 ],
 "metadata": {
  "kernelspec": {
   "display_name": "base",
   "language": "python",
   "name": "python3"
  },
  "language_info": {
   "codemirror_mode": {
    "name": "ipython",
    "version": 3
   },
   "file_extension": ".py",
   "mimetype": "text/x-python",
   "name": "python",
   "nbconvert_exporter": "python",
   "pygments_lexer": "ipython3",
   "version": "3.10.12"
  }
 },
 "nbformat": 4,
 "nbformat_minor": 5
}
